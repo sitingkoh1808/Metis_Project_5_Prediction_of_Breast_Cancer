{
 "cells": [
  {
   "cell_type": "markdown",
   "metadata": {},
   "source": [
    "# Basic steps to build an image classification model using a neural network are:\n",
    "\n",
    "1. Flatten the input image dimensions to 1D (width pixels x height pixels)\n",
    "2. Normalize the image pixel values (divide by 255)\n",
    "3. One-Hot Encode the categorical column\n",
    "4. Build a model architecture (Sequential) with Dense layers\n",
    "5. Train the model and make predictions"
   ]
  },
  {
   "cell_type": "markdown",
   "metadata": {},
   "source": [
    "## *Step 1: Import Modules*"
   ]
  },
  {
   "cell_type": "code",
   "execution_count": 1,
   "metadata": {
    "execution": {
     "iopub.execute_input": "2020-10-12T16:28:53.965287Z",
     "iopub.status.busy": "2020-10-12T16:28:53.964428Z",
     "iopub.status.idle": "2020-10-12T16:29:14.612466Z",
     "shell.execute_reply": "2020-10-12T16:29:14.611131Z"
    },
    "papermill": {
     "duration": 20.684919,
     "end_time": "2020-10-12T16:29:14.612684",
     "exception": false,
     "start_time": "2020-10-12T16:28:53.927765",
     "status": "completed"
    },
    "tags": []
   },
   "outputs": [],
   "source": [
    "# !pip3 install graphviz\n",
    "# !pip3 install ann_visualizer"
   ]
  },
  {
   "cell_type": "code",
   "execution_count": 2,
   "metadata": {
    "_cell_guid": "bb9fe3ef-104a-4a98-9f87-b65906acf50f",
    "_kg_hide-input": true,
    "_uuid": "5a9827f8d703a8741175d1e7df3121632715bdd8",
    "execution": {
     "iopub.execute_input": "2020-10-12T16:29:14.704474Z",
     "iopub.status.busy": "2020-10-12T16:29:14.695413Z",
     "iopub.status.idle": "2020-10-12T16:29:22.269007Z",
     "shell.execute_reply": "2020-10-12T16:29:22.268224Z"
    },
    "papermill": {
     "duration": 7.616599,
     "end_time": "2020-10-12T16:29:22.269133",
     "exception": false,
     "start_time": "2020-10-12T16:29:14.652534",
     "status": "completed"
    },
    "tags": []
   },
   "outputs": [
    {
     "name": "stderr",
     "output_type": "stream",
     "text": [
      "Using TensorFlow backend.\n"
     ]
    }
   ],
   "source": [
    "import numpy as np\n",
    "import pandas as pd\n",
    "import os\n",
    "from glob import glob\n",
    "import itertools\n",
    "import fnmatch\n",
    "import random\n",
    "import matplotlib.pylab as plt\n",
    "import seaborn as sns\n",
    "import cv2\n",
    "from PIL import Image\n",
    "from ann_visualizer.visualize import ann_viz;\n",
    "\n",
    "from sklearn.model_selection import train_test_split\n",
    "from sklearn.preprocessing import StandardScaler\n",
    "from sklearn.metrics import confusion_matrix, classification_report\n",
    "\n",
    "from tensorflow import keras\n",
    "from tensorflow.keras import backend as K\n",
    "from tensorflow.keras.callbacks import Callback, EarlyStopping, ReduceLROnPlateau, ModelCheckpoint\n",
    "from tensorflow.keras.preprocessing.image import ImageDataGenerator\n",
    "from keras.utils.np_utils import to_categorical\n",
    "from tensorflow.keras.models import Sequential, load_model\n",
    "from tensorflow.keras.layers import Dense, Dropout, Activation, Flatten, BatchNormalization, Conv2D, MaxPooling2D\n",
    "from tensorflow.keras import metrics\n",
    "\n",
    "from sklearn.model_selection import GridSearchCV\n",
    "from tensorflow.keras.wrappers.scikit_learn import KerasClassifier\n",
    "%matplotlib inline"
   ]
  },
  {
   "cell_type": "markdown",
   "metadata": {
    "_cell_guid": "4c6bd2df-2a43-4604-b407-ba81c8c3939b",
    "_uuid": "540f3c39324580297bcff94b4c4cfc0c5bb45b5f",
    "papermill": {
     "duration": 0.03338,
     "end_time": "2020-10-12T16:29:22.336462",
     "exception": false,
     "start_time": "2020-10-12T16:29:22.303082",
     "status": "completed"
    },
    "tags": []
   },
   "source": [
    "## *Step 2: Explore Data*"
   ]
  },
  {
   "cell_type": "code",
   "execution_count": 3,
   "metadata": {
    "_cell_guid": "765908c1-86cc-41df-8479-a39174231237",
    "_uuid": "1978266e1e2fe5d6eb9bdc17deb0d309441065a2",
    "execution": {
     "iopub.execute_input": "2020-10-12T16:29:22.410018Z",
     "iopub.status.busy": "2020-10-12T16:29:22.409167Z",
     "iopub.status.idle": "2020-10-12T16:33:48.803786Z",
     "shell.execute_reply": "2020-10-12T16:33:48.804636Z"
    },
    "papermill": {
     "duration": 266.43474,
     "end_time": "2020-10-12T16:33:48.804861",
     "exception": false,
     "start_time": "2020-10-12T16:29:22.370121",
     "status": "completed"
    },
    "tags": []
   },
   "outputs": [
    {
     "name": "stdout",
     "output_type": "stream",
     "text": [
      "C:\\Users\\HP\\Metis\\my_fifth_project\\Breast Histology Images\\10253\\0\\10253_idx5_x1001_y1001_class0.png\n",
      "C:\\Users\\HP\\Metis\\my_fifth_project\\Breast Histology Images\\10253\\0\\10253_idx5_x1001_y1051_class0.png\n",
      "C:\\Users\\HP\\Metis\\my_fifth_project\\Breast Histology Images\\10253\\0\\10253_idx5_x1001_y1101_class0.png\n",
      "C:\\Users\\HP\\Metis\\my_fifth_project\\Breast Histology Images\\10253\\0\\10253_idx5_x1001_y1151_class0.png\n",
      "C:\\Users\\HP\\Metis\\my_fifth_project\\Breast Histology Images\\10253\\0\\10253_idx5_x1001_y1201_class0.png\n",
      "C:\\Users\\HP\\Metis\\my_fifth_project\\Breast Histology Images\\10253\\0\\10253_idx5_x1001_y1251_class0.png\n",
      "C:\\Users\\HP\\Metis\\my_fifth_project\\Breast Histology Images\\10253\\0\\10253_idx5_x1001_y1301_class0.png\n",
      "C:\\Users\\HP\\Metis\\my_fifth_project\\Breast Histology Images\\10253\\0\\10253_idx5_x1001_y1351_class0.png\n",
      "C:\\Users\\HP\\Metis\\my_fifth_project\\Breast Histology Images\\10253\\0\\10253_idx5_x1001_y1501_class0.png\n",
      "C:\\Users\\HP\\Metis\\my_fifth_project\\Breast Histology Images\\10253\\0\\10253_idx5_x1001_y1551_class0.png\n"
     ]
    }
   ],
   "source": [
    "# Adding path of all the images together \n",
    "imagePatches = glob(r'C:\\Users\\HP\\Metis\\my_fifth_project\\Breast Histology Images\\**\\*.png', recursive=True)\n",
    "for filename in imagePatches[0:10]:\n",
    "    print(filename)"
   ]
  },
  {
   "cell_type": "code",
   "execution_count": 4,
   "metadata": {
    "_cell_guid": "0fd6c75a-b439-455c-ba85-24aa9d83da5b",
    "_uuid": "1d105b2c6fff7ddfd3120215ea7f77723e360179",
    "execution": {
     "iopub.execute_input": "2020-10-12T16:33:48.882167Z",
     "iopub.status.busy": "2020-10-12T16:33:48.881137Z",
     "iopub.status.idle": "2020-10-12T16:33:49.056211Z",
     "shell.execute_reply": "2020-10-12T16:33:49.055599Z"
    },
    "papermill": {
     "duration": 0.216257,
     "end_time": "2020-10-12T16:33:49.056367",
     "exception": false,
     "start_time": "2020-10-12T16:33:48.840110",
     "status": "completed"
    },
    "tags": []
   },
   "outputs": [
    {
     "data": {
      "text/plain": [
       "(-0.5, 49.5, 49.5, -0.5)"
      ]
     },
     "execution_count": 4,
     "metadata": {},
     "output_type": "execute_result"
    },
    {
     "data": {
      "image/png": "[encoded data removed]",
      "text/plain": [
       "<Figure size 432x288 with 1 Axes>"
      ]
     },
     "metadata": {
      "needs_background": "light"
     },
     "output_type": "display_data"
    }
   ],
   "source": [
    "image_sample = r'C:\\Users\\HP\\Metis\\my_fifth_project\\Breast Histology Images\\12935\\1\\12935_idx5_x1301_y1251_class1.png'\n",
    "dsize=(50,50)\n",
    "\n",
    "image = cv2.imread(image_sample)\n",
    "image = cv2.resize(image, dsize)\n",
    "plt.imshow(cv2.cvtColor(image, cv2.COLOR_BGR2RGB)); plt.axis('off')"
   ]
  },
  {
   "cell_type": "markdown",
   "metadata": {
    "_cell_guid": "5f695df0-da48-4cc5-93a0-dcb7a82d21a3",
    "_uuid": "c88fc872e6af3918192df09635e88904145761a2",
    "papermill": {
     "duration": 0.035163,
     "end_time": "2020-10-12T16:33:49.127179",
     "exception": false,
     "start_time": "2020-10-12T16:33:49.092016",
     "status": "completed"
    },
    "tags": []
   },
   "source": [
    "## *Step 3: Preprocess Data*"
   ]
  },
  {
   "cell_type": "code",
   "execution_count": 5,
   "metadata": {
    "_cell_guid": "f62e9e56-6564-4376-845f-284f624fa932",
    "_uuid": "69640054f59133ebe8dfa06612f3c14383916e90",
    "execution": {
     "iopub.execute_input": "2020-10-12T16:33:49.207052Z",
     "iopub.status.busy": "2020-10-12T16:33:49.206209Z",
     "iopub.status.idle": "2020-10-12T16:39:31.232493Z",
     "shell.execute_reply": "2020-10-12T16:39:31.231660Z"
    },
    "papermill": {
     "duration": 342.069778,
     "end_time": "2020-10-12T16:39:31.232631",
     "exception": false,
     "start_time": "2020-10-12T16:33:49.162853",
     "status": "completed"
    },
    "tags": []
   },
   "outputs": [],
   "source": [
    "resized_images,labels_arr = [],[]\n",
    "dsize=(50,50)\n",
    "    \n",
    "for img in imagePatches[0:]:\n",
    "    full_size_image = cv2.imread(img)\n",
    "    resized_images.append(cv2.resize(full_size_image, dsize, interpolation=cv2.INTER_CUBIC))\n",
    "    labels_arr.append(int(img[-5]))"
   ]
  },
  {
   "cell_type": "code",
   "execution_count": 6,
   "metadata": {
    "_cell_guid": "b3c1681f-7576-4b3d-ad49-7832e3bcf209",
    "_uuid": "5660e633007abaeda0a4698b8bfacf55d9552ab4",
    "execution": {
     "iopub.execute_input": "2020-10-12T16:39:31.322896Z",
     "iopub.status.busy": "2020-10-12T16:39:31.321903Z",
     "iopub.status.idle": "2020-10-12T16:39:31.325466Z",
     "shell.execute_reply": "2020-10-12T16:39:31.326364Z"
    },
    "papermill": {
     "duration": 0.057573,
     "end_time": "2020-10-12T16:39:31.326588",
     "exception": false,
     "start_time": "2020-10-12T16:39:31.269015",
     "status": "completed"
    },
    "tags": []
   },
   "outputs": [
    {
     "name": "stdout",
     "output_type": "stream",
     "text": [
      "Total number of images: 277524\n",
      "Number of IDC(-) Images: 198738\n",
      "Number of IDC(+) Images: 78786\n",
      "Image shape (Width, Height, Channels): (50, 50, 3)\n"
     ]
    }
   ],
   "source": [
    "def describeData(a,b):\n",
    "    print('Total number of images: {}'.format(len(a)))\n",
    "    print('Number of IDC(-) Images: {}'.format(len(a)-np.sum(b)))\n",
    "    print('Number of IDC(+) Images: {}'.format(np.sum(b)))\n",
    "    print('Image shape (Width, Height, Channels): {}'.format(a[0].shape))\n",
    "describeData(resized_images,labels_arr)"
   ]
  },
  {
   "cell_type": "markdown",
   "metadata": {
    "_cell_guid": "254e9903-c303-46cd-bde9-0d3b412e6cdb",
    "_uuid": "4d584d18cb934f1cf025e9bbb6d6cb8c03542494",
    "papermill": {
     "duration": 0.040628,
     "end_time": "2020-10-12T16:39:31.403511",
     "exception": false,
     "start_time": "2020-10-12T16:39:31.362883",
     "status": "completed"
    },
    "tags": []
   },
   "source": [
    "- The data is scaled from 0 to 255 but we want it to be scaled from 0 to 1.\n",
    "- We also want to set aside 20% of the data for testing.\n",
    "- And finally, we will use an undersampling strategy to deal with the imbalanced class sizes."
   ]
  },
  {
   "cell_type": "code",
   "execution_count": 7,
   "metadata": {
    "_cell_guid": "9f9e4c80-a8e0-47ac-957b-22231b1e9fca",
    "_uuid": "ae82d3f7ec59d7d112a8dd9ed1b8121a4792a1b0",
    "execution": {
     "iopub.execute_input": "2020-10-12T16:39:31.491151Z",
     "iopub.status.busy": "2020-10-12T16:39:31.489852Z",
     "iopub.status.idle": "2020-10-12T16:39:32.936956Z",
     "shell.execute_reply": "2020-10-12T16:39:32.936248Z"
    },
    "papermill": {
     "duration": 1.496881,
     "end_time": "2020-10-12T16:39:32.937081",
     "exception": false,
     "start_time": "2020-10-12T16:39:31.440200",
     "status": "completed"
    },
    "tags": []
   },
   "outputs": [
    {
     "name": "stdout",
     "output_type": "stream",
     "text": [
      "Training Data Shape: (222019, 50, 50, 3)\n",
      "Testing Data Shape: (55505, 50, 50, 3)\n"
     ]
    }
   ],
   "source": [
    "X=np.array(resized_images)\n",
    "Y=pd.Series(labels_arr) \n",
    "X=(X/255).astype('float32')\n",
    " \n",
    "X_train, X_test, Y_train, Y_test = train_test_split(X, Y, test_size=0.2)\n",
    "\n",
    "print(\"Training Data Shape:\", X_train.shape)\n",
    "print(\"Testing Data Shape:\", X_test.shape)"
   ]
  },
  {
   "cell_type": "code",
   "execution_count": 8,
   "metadata": {
    "_cell_guid": "ab055bcf-2a2c-4645-b043-45d28ddcc782",
    "_uuid": "1c05f8d5a5ada31b3741944ac02d480c2b39619f",
    "execution": {
     "iopub.execute_input": "2020-10-12T16:39:33.023460Z",
     "iopub.status.busy": "2020-10-12T16:39:33.016183Z",
     "iopub.status.idle": "2020-10-12T16:39:33.180670Z",
     "shell.execute_reply": "2020-10-12T16:39:33.179940Z"
    },
    "papermill": {
     "duration": 0.206352,
     "end_time": "2020-10-12T16:39:33.180844",
     "exception": false,
     "start_time": "2020-10-12T16:39:32.974492",
     "status": "completed"
    },
    "tags": []
   },
   "outputs": [
    {
     "name": "stderr",
     "output_type": "stream",
     "text": [
      "C:\\Users\\HP\\anaconda3\\envs\\metis\\lib\\site-packages\\seaborn\\_decorators.py:43: FutureWarning: Pass the following variable as a keyword arg: x. From version 0.12, the only valid positional argument will be `data`, and passing other arguments without an explicit keyword will result in an error or misinterpretation.\n",
      "  FutureWarning\n"
     ]
    },
    {
     "data": {
      "text/plain": [
       "<AxesSubplot:title={'center':'Distribution of target classes'}, ylabel='count'>"
      ]
     },
     "execution_count": 8,
     "metadata": {},
     "output_type": "execute_result"
    },
    {
     "data": {
      "image/png": "[encoded data removed]",
      "text/plain": [
       "<Figure size 432x288 with 1 Axes>"
      ]
     },
     "metadata": {
      "needs_background": "light"
     },
     "output_type": "display_data"
    }
   ],
   "source": [
    "plt.title(\"Distribution of target classes\")\n",
    "sns.countplot(Y) "
   ]
  },
  {
   "cell_type": "code",
   "execution_count": 9,
   "metadata": {
    "execution": {
     "iopub.execute_input": "2020-10-12T16:39:33.264175Z",
     "iopub.status.busy": "2020-10-12T16:39:33.263395Z",
     "iopub.status.idle": "2020-10-12T16:39:33.266438Z",
     "shell.execute_reply": "2020-10-12T16:39:33.265724Z"
    },
    "papermill": {
     "duration": 0.047438,
     "end_time": "2020-10-12T16:39:33.266561",
     "exception": false,
     "start_time": "2020-10-12T16:39:33.219123",
     "status": "completed"
    },
    "tags": []
   },
   "outputs": [],
   "source": [
    "# Make Data 1D for compatability upsampling methods\n",
    "image_shape = 50*50*3\n",
    "\n",
    "X_train = X_train.reshape(X_train.shape[0], image_shape)\n",
    "X_test = X_test.reshape(X_test.shape[0], image_shape)"
   ]
  },
  {
   "cell_type": "code",
   "execution_count": 10,
   "metadata": {
    "execution": {
     "iopub.execute_input": "2020-10-12T16:39:33.347666Z",
     "iopub.status.busy": "2020-10-12T16:39:33.346771Z",
     "iopub.status.idle": "2020-10-12T16:39:33.351701Z",
     "shell.execute_reply": "2020-10-12T16:39:33.352300Z"
    },
    "papermill": {
     "duration": 0.048303,
     "end_time": "2020-10-12T16:39:33.352466",
     "exception": false,
     "start_time": "2020-10-12T16:39:33.304163",
     "status": "completed"
    },
    "tags": []
   },
   "outputs": [
    {
     "name": "stdout",
     "output_type": "stream",
     "text": [
      "Shape of flattened training data: (222019, 7500) \n",
      "Shape of flatened testing data:  (55505, 7500)\n"
     ]
    }
   ],
   "source": [
    "print(\"Shape of flattened training data:\",X_train.shape,\"\\nShape of flatened testing data: \",X_test.shape)"
   ]
  },
  {
   "cell_type": "code",
   "execution_count": 11,
   "metadata": {
    "_cell_guid": "06cb3ea4-371a-4971-9449-dc726f06e16b",
    "_uuid": "5d3087f0dfe874a591449b9d5f27da138f42f0c6",
    "execution": {
     "iopub.execute_input": "2020-10-12T16:39:33.450428Z",
     "iopub.status.busy": "2020-10-12T16:39:33.449637Z",
     "iopub.status.idle": "2020-10-12T16:39:34.091278Z",
     "shell.execute_reply": "2020-10-12T16:39:34.090655Z"
    },
    "papermill": {
     "duration": 0.694453,
     "end_time": "2020-10-12T16:39:34.091414",
     "exception": false,
     "start_time": "2020-10-12T16:39:33.396961",
     "status": "completed"
    },
    "tags": []
   },
   "outputs": [],
   "source": [
    "# Deal with imbalanced class sizes below\n",
    "\n",
    "# from imblearn.over_sampling import RandomOverSampler \n",
    "\n",
    "from imblearn.under_sampling import RandomUnderSampler\n",
    "\n",
    "# Ros = RandomOverSampler(sampling_strategy='auto') \n",
    "Rus = RandomUnderSampler(sampling_strategy='auto',random_state=9)\n",
    "\n",
    "X_trainRusFlat, Y_trainRus = Rus.fit_sample(X_train, Y_train)\n",
    "X_testRusFlat, Y_testRus = Rus.fit_sample(X_test, Y_test)\n",
    "\n",
    "#Reshape the images\n",
    "X_trainRus = X_trainRusFlat.reshape(len(X_trainRusFlat),50,50,3)\n",
    "X_testRus = X_testRusFlat.reshape(len(X_testRusFlat),50,50,3)\n",
    "\n",
    "# Encode labels\n",
    "Y_trainRus = to_categorical(Y_trainRus, num_classes = 2)\n",
    "Y_testRus = to_categorical(Y_testRus, num_classes = 2)"
   ]
  },
  {
   "cell_type": "code",
   "execution_count": 12,
   "metadata": {
    "execution": {
     "iopub.execute_input": "2020-10-12T16:39:34.174979Z",
     "iopub.status.busy": "2020-10-12T16:39:34.173898Z",
     "iopub.status.idle": "2020-10-12T16:39:34.178284Z",
     "shell.execute_reply": "2020-10-12T16:39:34.177646Z"
    },
    "papermill": {
     "duration": 0.04826,
     "end_time": "2020-10-12T16:39:34.178427",
     "exception": false,
     "start_time": "2020-10-12T16:39:34.130167",
     "status": "completed"
    },
    "tags": []
   },
   "outputs": [
    {
     "name": "stdout",
     "output_type": "stream",
     "text": [
      "New shape of Train data = (125914, 50, 50, 3)\n",
      "New shape of Test data = (31658, 50, 50, 3)\n"
     ]
    }
   ],
   "source": [
    "print(\"New shape of Train data =\",X_trainRus.shape)\n",
    "print(\"New shape of Test data =\",X_testRus.shape)"
   ]
  },
  {
   "cell_type": "markdown",
   "metadata": {},
   "source": [
    "## *Step 4: Building CNN Image Classification Model*"
   ]
  },
  {
   "cell_type": "code",
   "execution_count": 38,
   "metadata": {},
   "outputs": [],
   "source": [
    "from numpy.random import seed\n",
    "import tensorflow as tf\n",
    "seed(1)\n",
    "tf.random.set_seed(9)"
   ]
  },
  {
   "cell_type": "code",
   "execution_count": 39,
   "metadata": {},
   "outputs": [],
   "source": [
    "# building a linear stack of layers with the sequential model\n",
    "model = Sequential()\n",
    "\n",
    "# convolutional layer\n",
    "model.add(Conv2D(32, (3, 3), activation='relu', input_shape=(50,50, 3)))\n",
    "model.add(MaxPooling2D(pool_size=(3, 3))) \n",
    "model.add(Dropout(0.2))\n",
    "\n",
    "# flatten output of conv\n",
    "model.add(Flatten())\n",
    "\n",
    "# hidden layer\n",
    "model.add(Dense(128, activation='relu'))\n",
    "\n",
    "# output layer\n",
    "model.add(Dropout(0.5))\n",
    "model.add(Dense(2, activation='sigmoid'))"
   ]
  },
  {
   "cell_type": "code",
   "execution_count": 40,
   "metadata": {},
   "outputs": [
    {
     "name": "stdout",
     "output_type": "stream",
     "text": [
      "Model: \"sequential_1\"\n",
      "_________________________________________________________________\n",
      "Layer (type)                 Output Shape              Param #   \n",
      "=================================================================\n",
      "conv2d_1 (Conv2D)            (None, 48, 48, 32)        896       \n",
      "_________________________________________________________________\n",
      "max_pooling2d_1 (MaxPooling2 (None, 16, 16, 32)        0         \n",
      "_________________________________________________________________\n",
      "dropout_2 (Dropout)          (None, 16, 16, 32)        0         \n",
      "_________________________________________________________________\n",
      "flatten_1 (Flatten)          (None, 8192)              0         \n",
      "_________________________________________________________________\n",
      "dense_2 (Dense)              (None, 128)               1048704   \n",
      "_________________________________________________________________\n",
      "dropout_3 (Dropout)          (None, 128)               0         \n",
      "_________________________________________________________________\n",
      "dense_3 (Dense)              (None, 2)                 258       \n",
      "=================================================================\n",
      "Total params: 1,049,858\n",
      "Trainable params: 1,049,858\n",
      "Non-trainable params: 0\n",
      "_________________________________________________________________\n"
     ]
    }
   ],
   "source": [
    "# looking at the model summary\n",
    "model.summary()"
   ]
  },
  {
   "cell_type": "markdown",
   "metadata": {},
   "source": [
    "## *Step 4: Evaluation Metrics*"
   ]
  },
  {
   "cell_type": "code",
   "execution_count": 41,
   "metadata": {},
   "outputs": [],
   "source": [
    "def recall_m(y_true, y_pred):\n",
    "    true_positives = K.sum(K.round(K.clip(y_true * y_pred, 0, 1)))\n",
    "    possible_positives = K.sum(K.round(K.clip(y_true, 0, 1)))\n",
    "    recall = true_positives / (possible_positives + K.epsilon())\n",
    "    return recall\n",
    "\n",
    "def precision_m(y_true, y_pred):\n",
    "    true_positives = K.sum(K.round(K.clip(y_true * y_pred, 0, 1)))\n",
    "    predicted_positives = K.sum(K.round(K.clip(y_pred, 0, 1)))\n",
    "    precision = true_positives / (predicted_positives + K.epsilon())\n",
    "    return precision\n",
    "\n",
    "def f1(y_true, y_pred):\n",
    "    precision = precision_m(y_true, y_pred)\n",
    "    recall = recall_m(y_true, y_pred)\n",
    "    return 2*((precision*recall)/(precision+recall+K.epsilon()))"
   ]
  },
  {
   "cell_type": "markdown",
   "metadata": {},
   "source": [
    "## *Step 5: Train Model*"
   ]
  },
  {
   "cell_type": "code",
   "execution_count": 42,
   "metadata": {},
   "outputs": [],
   "source": [
    "# compiling the sequential model\n",
    "model.compile(loss='categorical_crossentropy', \n",
    "              optimizer='adam',\n",
    "             metrics= [metrics.BinaryAccuracy(name='accuracy'),\n",
    "                        metrics.AUC(name='auc'),\n",
    "                        precision_m, recall_m, f1])"
   ]
  },
  {
   "cell_type": "code",
   "execution_count": 43,
   "metadata": {},
   "outputs": [],
   "source": [
    "# simple early stopping\n",
    "es = EarlyStopping(monitor='val_loss', mode='min', verbose=1)"
   ]
  },
  {
   "cell_type": "code",
   "execution_count": 44,
   "metadata": {},
   "outputs": [
    {
     "name": "stdout",
     "output_type": "stream",
     "text": [
      "Epoch 1/100\n",
      "1260/1260 [==============================] - 150s 119ms/step - loss: 0.4834 - accuracy: 0.7709 - auc: 0.8189 - precision_m: 0.7534 - recall_m: 0.8411 - f1: 0.7901 - val_loss: 0.4221 - val_accuracy: 0.8093 - val_auc: 0.8893 - val_precision_m: 0.7933 - val_recall_m: 0.8372 - val_f1: 0.8146\n",
      "Epoch 2/100\n",
      "1260/1260 [==============================] - 149s 118ms/step - loss: 0.4333 - accuracy: 0.8078 - auc: 0.8789 - precision_m: 0.7979 - recall_m: 0.8249 - f1: 0.8110 - val_loss: 0.4179 - val_accuracy: 0.8114 - val_auc: 0.8873 - val_precision_m: 0.7953 - val_recall_m: 0.8397 - val_f1: 0.8167\n",
      "Epoch 3/100\n",
      "1260/1260 [==============================] - 147s 117ms/step - loss: 0.4222 - accuracy: 0.8130 - auc: 0.8846 - precision_m: 0.8058 - recall_m: 0.8250 - f1: 0.8151 - val_loss: 0.3960 - val_accuracy: 0.8252 - val_auc: 0.9013 - val_precision_m: 0.8137 - val_recall_m: 0.8436 - val_f1: 0.8283\n",
      "Epoch 4/100\n",
      "1260/1260 [==============================] - 149s 119ms/step - loss: 0.4131 - accuracy: 0.8168 - auc: 0.8891 - precision_m: 0.8103 - recall_m: 0.8277 - f1: 0.8187 - val_loss: 0.3928 - val_accuracy: 0.8285 - val_auc: 0.9037 - val_precision_m: 0.8231 - val_recall_m: 0.8370 - val_f1: 0.8299\n",
      "Epoch 5/100\n",
      "1260/1260 [==============================] - 151s 120ms/step - loss: 0.4049 - accuracy: 0.8217 - auc: 0.8933 - precision_m: 0.8195 - recall_m: 0.8254 - f1: 0.8222 - val_loss: 0.3887 - val_accuracy: 0.8268 - val_auc: 0.9010 - val_precision_m: 0.8202 - val_recall_m: 0.8373 - val_f1: 0.8286\n",
      "Epoch 6/100\n",
      "1260/1260 [==============================] - 147s 117ms/step - loss: 0.3988 - accuracy: 0.8243 - auc: 0.8958 - precision_m: 0.8225 - recall_m: 0.8279 - f1: 0.8249 - val_loss: 0.3838 - val_accuracy: 0.8305 - val_auc: 0.9040 - val_precision_m: 0.8204 - val_recall_m: 0.8469 - val_f1: 0.8333\n",
      "Epoch 7/100\n",
      "1260/1260 [==============================] - 145s 115ms/step - loss: 0.3944 - accuracy: 0.8246 - auc: 0.8973 - precision_m: 0.8208 - recall_m: 0.8309 - f1: 0.8255 - val_loss: 0.3774 - val_accuracy: 0.8326 - val_auc: 0.9073 - val_precision_m: 0.8174 - val_recall_m: 0.8566 - val_f1: 0.8364\n",
      "Epoch 8/100\n",
      "1260/1260 [==============================] - 145s 115ms/step - loss: 0.3897 - accuracy: 0.8275 - auc: 0.8991 - precision_m: 0.8230 - recall_m: 0.8355 - f1: 0.8289 - val_loss: 0.3788 - val_accuracy: 0.8298 - val_auc: 0.9061 - val_precision_m: 0.8380 - val_recall_m: 0.8175 - val_f1: 0.8275\n",
      "Epoch 00008: early stopping\n"
     ]
    }
   ],
   "source": [
    "history = model.fit(X_trainRus, Y_trainRus, batch_size=100, epochs=100, validation_data=(X_testRus, Y_testRus)\n",
    "                   ,callbacks=[es])"
   ]
  },
  {
   "cell_type": "code",
   "execution_count": 45,
   "metadata": {},
   "outputs": [
    {
     "name": "stdout",
     "output_type": "stream",
     "text": [
      "dict_keys(['loss', 'accuracy', 'auc', 'precision_m', 'recall_m', 'f1', 'val_loss', 'val_accuracy', 'val_auc', 'val_precision_m', 'val_recall_m', 'val_f1'])\n"
     ]
    }
   ],
   "source": [
    "# list all data in history\n",
    "print(history.history.keys())"
   ]
  },
  {
   "cell_type": "code",
   "execution_count": 46,
   "metadata": {},
   "outputs": [
    {
     "data": {
      "image/png": "[encoded data removed]",
      "text/plain": [
       "<Figure size 432x288 with 1 Axes>"
      ]
     },
     "metadata": {
      "needs_background": "light"
     },
     "output_type": "display_data"
    }
   ],
   "source": [
    "# summarize history for accuracy\n",
    "plt.plot(history.history['accuracy'])\n",
    "plt.plot(history.history['val_accuracy'])\n",
    "plt.title('model accuracy')\n",
    "plt.ylabel('accuracy')\n",
    "plt.xlabel('epoch')\n",
    "plt.legend(['train', 'test'], loc='upper left')\n",
    "plt.show()"
   ]
  },
  {
   "cell_type": "code",
   "execution_count": 47,
   "metadata": {},
   "outputs": [
    {
     "data": {
      "image/png": "[encoded data removed]",
      "text/plain": [
       "<Figure size 432x288 with 1 Axes>"
      ]
     },
     "metadata": {
      "needs_background": "light"
     },
     "output_type": "display_data"
    }
   ],
   "source": [
    "# summarize history for loss\n",
    "plt.plot(history.history['loss'])\n",
    "plt.plot(history.history['val_loss'])\n",
    "plt.title('model loss')\n",
    "plt.ylabel('loss')\n",
    "plt.xlabel('epoch')\n",
    "plt.legend(['train', 'test'], loc='upper left')\n",
    "plt.show()"
   ]
  },
  {
   "cell_type": "markdown",
   "metadata": {},
   "source": [
    "## *Step 6: Evaluation*"
   ]
  },
  {
   "cell_type": "code",
   "execution_count": 48,
   "metadata": {},
   "outputs": [
    {
     "name": "stdout",
     "output_type": "stream",
     "text": [
      "['loss', 'accuracy', 'auc', 'precision_m', 'recall_m', 'f1']\n"
     ]
    }
   ],
   "source": [
    "print(model.metrics_names)"
   ]
  },
  {
   "cell_type": "code",
   "execution_count": 49,
   "metadata": {},
   "outputs": [
    {
     "name": "stdout",
     "output_type": "stream",
     "text": [
      "990/990 [==============================] - 14s 14ms/step - loss: 0.3788 - accuracy: 0.8298 - auc: 0.9061 - precision_m: 0.8386 - recall_m: 0.8177 - f1: 0.8274\n",
      "Our log-loss is 0.37876397371292114\n",
      "Our accuracy is 0.8297902345657349\n",
      "Our auc_score is 0.9060633182525635\n",
      "Our precision is 0.8385530710220337\n",
      "Our recall is 0.8176641464233398\n",
      "Our f1-score is 0.8273536562919617\n"
     ]
    }
   ],
   "source": [
    "(loss, accuracy, auc, precision, recall, f1) = model.evaluate(X_testRus, Y_testRus)\n",
    "\n",
    "print(\"Our log-loss is {}\".format(loss))\n",
    "print(\"Our accuracy is {}\".format(accuracy))\n",
    "print(\"Our auc_score is {}\".format(auc))\n",
    "print(\"Our precision is {}\".format(precision))\n",
    "print(\"Our recall is {}\".format(recall))\n",
    "print(\"Our f1-score is {}\".format(f1))"
   ]
  },
  {
   "cell_type": "markdown",
   "metadata": {},
   "source": [
    "### Confusion Matrix"
   ]
  },
  {
   "cell_type": "code",
   "execution_count": 50,
   "metadata": {},
   "outputs": [],
   "source": [
    "# Predicting the Test set results\n",
    "y_pred = model.predict(X_testRus)\n",
    "map_characters = {0: 'IDC(-)', 1: 'IDC(+)'}"
   ]
  },
  {
   "cell_type": "code",
   "execution_count": 51,
   "metadata": {},
   "outputs": [
    {
     "name": "stdout",
     "output_type": "stream",
     "text": [
      "\n",
      "              precision    recall  f1-score   support\n",
      "\n",
      "      IDC(-)       0.83      0.85      0.84     15829\n",
      "      IDC(+)       0.85      0.82      0.83     15829\n",
      "\n",
      "    accuracy                           0.84     31658\n",
      "   macro avg       0.84      0.84      0.84     31658\n",
      "weighted avg       0.84      0.84      0.84     31658\n",
      "\n"
     ]
    }
   ],
   "source": [
    "print('\\n', classification_report(np.where(Y_testRus > 0)[1], np.argmax(y_pred, axis=1), \n",
    "                                      target_names=list(map_characters.values())), sep='')    \n",
    "Y_pred_classes = np.argmax(y_pred,axis=1) \n",
    "    \n",
    "Y_true = np.argmax(Y_testRus,axis=1) "
   ]
  },
  {
   "cell_type": "code",
   "execution_count": 52,
   "metadata": {},
   "outputs": [],
   "source": [
    "def plot_confusion_matrix(cm, normalize=False, cmap=plt.cm.Blues):\n",
    "    title='Confusion matrix'\n",
    "    classes = {0: 'IDC(-)', 1: 'IDC(+)'}\n",
    "    plt.figure(figsize = (6,6))\n",
    "    plt.imshow(cm, interpolation='nearest', cmap=cmap)\n",
    "    plt.title(title)\n",
    "    plt.colorbar()\n",
    "    tick_marks = np.arange(len(classes))\n",
    "    plt.xticks(tick_marks, classes, rotation=90)\n",
    "    plt.yticks(tick_marks, classes)\n",
    "    if normalize:\n",
    "        cm = cm.astype('float') / cm.sum(axis=1)[:, np.newaxis]\n",
    "\n",
    "    thresh = cm.max() / 2.\n",
    "    for i, j in itertools.product(range(cm.shape[0]), range(cm.shape[1])):\n",
    "        plt.text(j, i, cm[i, j],\n",
    "                 horizontalalignment=\"center\",\n",
    "                 color=\"white\" if cm[i, j] > thresh else \"black\")\n",
    "    plt.tight_layout()\n",
    "    plt.ylabel('True label')\n",
    "    plt.xlabel('Predicted label')"
   ]
  },
  {
   "cell_type": "code",
   "execution_count": 53,
   "metadata": {},
   "outputs": [
    {
     "data": {
      "image/png": "[encoded data removed]",
      "text/plain": [
       "<Figure size 432x432 with 2 Axes>"
      ]
     },
     "metadata": {
      "needs_background": "light"
     },
     "output_type": "display_data"
    }
   ],
   "source": [
    "# Making the Confusion Matrix\n",
    "from sklearn.metrics import confusion_matrix\n",
    "confusion_mtx = confusion_matrix(Y_true, Y_pred_classes) \n",
    "plot_confusion_matrix(confusion_mtx) \n",
    "plt.show()"
   ]
  },
  {
   "cell_type": "markdown",
   "metadata": {
    "papermill": {
     "duration": 3.552565,
     "end_time": "2020-10-12T16:51:16.299541",
     "exception": false,
     "start_time": "2020-10-12T16:51:12.746976",
     "status": "completed"
    },
    "tags": []
   },
   "source": [
    "### Test Case 1"
   ]
  },
  {
   "cell_type": "code",
   "execution_count": 54,
   "metadata": {},
   "outputs": [],
   "source": [
    "#function to plot image\n",
    "def img_plot(arr,index=0):\n",
    "    plt.title('Test Image')\n",
    "    plt.imshow(arr[index])  "
   ]
  },
  {
   "cell_type": "code",
   "execution_count": 55,
   "metadata": {
    "execution": {
     "iopub.execute_input": "2020-10-12T16:51:23.493154Z",
     "iopub.status.busy": "2020-10-12T16:51:23.490277Z",
     "iopub.status.idle": "2020-10-12T16:51:23.636617Z",
     "shell.execute_reply": "2020-10-12T16:51:23.635948Z"
    },
    "papermill": {
     "duration": 3.752839,
     "end_time": "2020-10-12T16:51:23.636746",
     "exception": false,
     "start_time": "2020-10-12T16:51:19.883907",
     "status": "completed"
    },
    "tags": []
   },
   "outputs": [
    {
     "data": {
      "image/png": "[encoded data removed]",
      "text/plain": [
       "<Figure size 432x288 with 1 Axes>"
      ]
     },
     "metadata": {
      "needs_background": "light"
     },
     "output_type": "display_data"
    }
   ],
   "source": [
    "index1 = 51\n",
    "img_plot(X_testRus, index1)"
   ]
  },
  {
   "cell_type": "code",
   "execution_count": 56,
   "metadata": {
    "execution": {
     "iopub.execute_input": "2020-10-12T16:51:30.973377Z",
     "iopub.status.busy": "2020-10-12T16:51:30.972043Z",
     "iopub.status.idle": "2020-10-12T16:51:30.980549Z",
     "shell.execute_reply": "2020-10-12T16:51:30.981149Z"
    },
    "papermill": {
     "duration": 3.677145,
     "end_time": "2020-10-12T16:51:30.981365",
     "exception": false,
     "start_time": "2020-10-12T16:51:27.304220",
     "status": "completed"
    },
    "tags": []
   },
   "outputs": [
    {
     "name": "stdout",
     "output_type": "stream",
     "text": [
      "Input Index = 51\n"
     ]
    }
   ],
   "source": [
    "input1 = X_testRus[index1:index1+1]\n",
    "print('Input Index =',index1)"
   ]
  },
  {
   "cell_type": "code",
   "execution_count": 57,
   "metadata": {
    "execution": {
     "iopub.execute_input": "2020-10-12T16:51:38.166657Z",
     "iopub.status.busy": "2020-10-12T16:51:38.165823Z",
     "iopub.status.idle": "2020-10-12T16:51:38.443180Z",
     "shell.execute_reply": "2020-10-12T16:51:38.443806Z"
    },
    "papermill": {
     "duration": 3.870392,
     "end_time": "2020-10-12T16:51:38.443993",
     "exception": false,
     "start_time": "2020-10-12T16:51:34.573601",
     "status": "completed"
    },
    "tags": []
   },
   "outputs": [
    {
     "name": "stdout",
     "output_type": "stream",
     "text": [
      "Predicted Value using cnn model 0\n",
      "\n",
      "True Value 0\n"
     ]
    }
   ],
   "source": [
    "label1 = Y_testRus[index1].argmax()\n",
    "pred1 = model.predict(input1)[0].argmax()\n",
    "\n",
    "print('Predicted Value using cnn model',pred1)\n",
    "\n",
    "print(\"\\nTrue Value\",label1)"
   ]
  },
  {
   "cell_type": "markdown",
   "metadata": {
    "papermill": {
     "duration": 3.55777,
     "end_time": "2020-10-12T16:51:45.658866",
     "exception": false,
     "start_time": "2020-10-12T16:51:42.101096",
     "status": "completed"
    },
    "tags": []
   },
   "source": [
    "### Test Case 2"
   ]
  },
  {
   "cell_type": "code",
   "execution_count": 58,
   "metadata": {
    "execution": {
     "iopub.execute_input": "2020-10-12T16:51:52.805778Z",
     "iopub.status.busy": "2020-10-12T16:51:52.804001Z",
     "iopub.status.idle": "2020-10-12T16:51:52.968961Z",
     "shell.execute_reply": "2020-10-12T16:51:52.969500Z"
    },
    "papermill": {
     "duration": 3.780506,
     "end_time": "2020-10-12T16:51:52.969660",
     "exception": false,
     "start_time": "2020-10-12T16:51:49.189154",
     "status": "completed"
    },
    "tags": []
   },
   "outputs": [
    {
     "data": {
      "image/png": "[encoded data removed]",
      "text/plain": [
       "<Figure size 432x288 with 1 Axes>"
      ]
     },
     "metadata": {
      "needs_background": "light"
     },
     "output_type": "display_data"
    }
   ],
   "source": [
    "index2 = 402\n",
    "img_plot(X_testRus, index2)"
   ]
  },
  {
   "cell_type": "code",
   "execution_count": 59,
   "metadata": {
    "execution": {
     "iopub.execute_input": "2020-10-12T16:52:00.141576Z",
     "iopub.status.busy": "2020-10-12T16:52:00.140731Z",
     "iopub.status.idle": "2020-10-12T16:52:00.144097Z",
     "shell.execute_reply": "2020-10-12T16:52:00.144773Z"
    },
    "papermill": {
     "duration": 3.640467,
     "end_time": "2020-10-12T16:52:00.144944",
     "exception": false,
     "start_time": "2020-10-12T16:51:56.504477",
     "status": "completed"
    },
    "tags": []
   },
   "outputs": [
    {
     "name": "stdout",
     "output_type": "stream",
     "text": [
      "Input Index = 402\n"
     ]
    }
   ],
   "source": [
    "input2 = X_testRus[index2:index2+1]\n",
    "print('Input Index =',index2)"
   ]
  },
  {
   "cell_type": "code",
   "execution_count": 60,
   "metadata": {
    "papermill": {
     "duration": 3.625341,
     "end_time": "2020-10-12T16:52:14.672429",
     "exception": false,
     "start_time": "2020-10-12T16:52:11.047088",
     "status": "completed"
    },
    "tags": []
   },
   "outputs": [
    {
     "name": "stdout",
     "output_type": "stream",
     "text": [
      "Predicted Value using cnn model 0\n",
      "\n",
      "True Value 0\n"
     ]
    }
   ],
   "source": [
    "label2 = Y_testRus[index2].argmax()\n",
    "pred2 = model.predict(input2)[0].argmax()\n",
    "\n",
    "print('Predicted Value using cnn model',pred2)\n",
    "\n",
    "print(\"\\nTrue Value\",label2)"
   ]
  },
  {
   "cell_type": "code",
   "execution_count": null,
   "metadata": {},
   "outputs": [],
   "source": []
  },
  {
   "cell_type": "code",
   "execution_count": null,
   "metadata": {},
   "outputs": [],
   "source": []
  },
  {
   "cell_type": "code",
   "execution_count": null,
   "metadata": {},
   "outputs": [],
   "source": []
  }
 ],
 "metadata": {
  "kernelspec": {
   "display_name": "Python 3",
   "language": "python",
   "name": "python3"
  },
  "language_info": {
   "codemirror_mode": {
    "name": "ipython",
    "version": 3
   },
   "file_extension": ".py",
   "mimetype": "text/x-python",
   "name": "python",
   "nbconvert_exporter": "python",
   "pygments_lexer": "ipython3",
   "version": "3.6.12"
  },
  "papermill": {
   "duration": 1409.440625,
   "end_time": "2020-10-12T16:52:18.334603",
   "environment_variables": {},
   "exception": null,
   "input_path": "__notebook__.ipynb",
   "output_path": "__notebook__.ipynb",
   "parameters": {},
   "start_time": "2020-10-12T16:28:48.893978",
   "version": "2.1.0"
  }
 },
 "nbformat": 4,
 "nbformat_minor": 4
}
